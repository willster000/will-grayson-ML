{
 "cells": [
  {
   "cell_type": "code",
   "execution_count": 2,
   "metadata": {},
   "outputs": [],
   "source": [
    "import pandas as pd\n",
    "import glob\n",
    "from sklearn.preprocessing import MinMaxScaler\n",
    "from sklearn.ensemble import RandomForestClassifier\n",
    "from sklearn.metrics import classification_report, confusion_matrix\n"
   ]
  },
  {
   "cell_type": "code",
   "execution_count": 3,
   "metadata": {},
   "outputs": [],
   "source": [
    "# Grayson's path\n",
    "train_folder = \"C:\\\\Users\\\\grays\\\\Will-Grayson GitHub Repo\\\\will-grayson-ML\\\\two-class\\\\data\\\\train\\\\\"\n",
    "test_folder = \"C:\\\\Users\\\\grays\\\\Will-Grayson GitHub Repo\\\\will-grayson-ML\\\\two-class\\\\data\\\\test\\\\\"\n",
    "\n",
    "# Will's path (comment out if not in use)\n",
    "# train_folder = \"C:\\\\Users\\\\willg\\\\OneDrive\\\\CSCI\\\\summer-2024-work\\\\will-grayson-ML\\\\train\\\\\"\n",
    "# test_folder = \"C:\\\\Users\\\\willg\\\\OneDrive\\\\CSCI\\\\summer-2024-work\\\\will-grayson-ML\\\\test\\\\\"\n",
    "\n",
    "# Function to load and concatenate CSV files from a list of file paths\n",
    "def load_and_concat(files, sample_fraction=None):\n",
    "    df_list = []\n",
    "    for file in files:\n",
    "        df = pd.read_csv(file)\n",
    "        if sample_fraction:\n",
    "            df = df.sample(frac=sample_fraction, random_state=42)  # Random sampling\n",
    "        df_list.append(df)\n",
    "    return pd.concat(df_list, ignore_index=True)\n",
    "\n",
    "# List all CSV files in the train and test folders\n",
    "train_files = glob.glob(train_folder + \"*.csv\")\n",
    "test_files = glob.glob(test_folder + \"*.csv\")\n",
    "\n",
    "# Load and concatenate training and testing data\n",
    "train_df = load_and_concat(train_files, sample_fraction=0.1)  # Use 10% of the data\n",
    "test_df = load_and_concat(test_files, sample_fraction=0.1)"
   ]
  },
  {
   "cell_type": "code",
   "execution_count": 4,
   "metadata": {},
   "outputs": [],
   "source": [
    "feature_columns = [col for col in train_df.columns if col not in ['benign', 'attack']]\n",
    "\n",
    "# Separate features and labels\n",
    "X_train = train_df[feature_columns]\n",
    "y_train = train_df['attack']\n",
    "X_test = test_df[feature_columns]\n",
    "y_test = test_df['attack']"
   ]
  },
  {
   "cell_type": "code",
   "execution_count": 5,
   "metadata": {},
   "outputs": [],
   "source": [
    "# Create a scaler object\n",
    "scaler = MinMaxScaler()\n",
    "\n",
    "# Fit the scaler to the training features and transform both training and testing features\n",
    "X_train_scaled = scaler.fit_transform(X_train)\n",
    "X_test_scaled = scaler.transform(X_test)\n",
    "\n",
    "# Convert the scaled features to DataFrames\n",
    "X_train_scaled_df = pd.DataFrame(X_train_scaled, columns=feature_columns)\n",
    "X_test_scaled_df = pd.DataFrame(X_test_scaled, columns=feature_columns)"
   ]
  },
  {
   "cell_type": "code",
   "execution_count": 6,
   "metadata": {},
   "outputs": [
    {
     "name": "stdout",
     "output_type": "stream",
     "text": [
      "[[  3573    188]\n",
      " [   114 157544]]\n",
      "              precision    recall  f1-score   support\n",
      "\n",
      "           0       0.97      0.95      0.96      3761\n",
      "           1       1.00      1.00      1.00    157658\n",
      "\n",
      "    accuracy                           1.00    161419\n",
      "   macro avg       0.98      0.97      0.98    161419\n",
      "weighted avg       1.00      1.00      1.00    161419\n",
      "\n"
     ]
    }
   ],
   "source": [
    "# Initialize the Random Forest Classifier\n",
    "model = RandomForestClassifier(n_estimators=100, random_state=42)\n",
    "\n",
    "# Train the model\n",
    "model.fit(X_train_scaled, y_train)\n",
    "\n",
    "# Make predictions\n",
    "y_pred = model.predict(X_test_scaled)\n",
    "\n",
    "# Evaluate the model\n",
    "print(confusion_matrix(y_test, y_pred))\n",
    "print(classification_report(y_test, y_pred))"
   ]
  }
 ],
 "metadata": {
  "kernelspec": {
   "display_name": "Python 3",
   "language": "python",
   "name": "python3"
  },
  "language_info": {
   "codemirror_mode": {
    "name": "ipython",
    "version": 3
   },
   "file_extension": ".py",
   "mimetype": "text/x-python",
   "name": "python",
   "nbconvert_exporter": "python",
   "pygments_lexer": "ipython3",
   "version": "3.9.7"
  }
 },
 "nbformat": 4,
 "nbformat_minor": 2
}
