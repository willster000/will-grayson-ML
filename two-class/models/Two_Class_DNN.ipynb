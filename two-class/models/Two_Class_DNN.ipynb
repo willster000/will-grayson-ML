{
 "cells": [
  {
   "cell_type": "code",
   "execution_count": 1,
   "metadata": {},
   "outputs": [],
   "source": [
    "import pandas as pd\n",
    "import glob\n",
    "from sklearn.preprocessing import MinMaxScaler\n",
    "from sklearn.metrics import classification_report, confusion_matrix\n",
    "import tensorflow as tf\n",
    "from tensorflow.keras.models import Sequential\n",
    "from tensorflow.keras.layers import Dense, Dropout\n",
    "from tensorflow.keras.utils import to_categorical\n"
   ]
  },
  {
   "cell_type": "code",
   "execution_count": 2,
   "metadata": {},
   "outputs": [],
   "source": [
    "# Grayson's path\n",
    "train_folder = \"C:\\\\Users\\\\grays\\\\Will-Grayson GitHub Repo\\\\will-grayson-ML\\\\two-class\\\\data\\\\train\\\\\"\n",
    "test_folder = \"C:\\\\Users\\\\grays\\\\Will-Grayson GitHub Repo\\\\will-grayson-ML\\\\two-class\\\\data\\\\test\\\\\"\n",
    "\n",
    "# Will's path (comment out if not in use)\n",
    "#train_folder = \"C:\\\\Users\\\\willg\\\\OneDrive\\\\CSCI\\\\summer-2024-work\\\\will-grayson-ML\\\\train\\\\\"\n",
    "#test_folder = \"C:\\\\Users\\\\willg\\\\OneDrive\\\\CSCI\\\\summer-2024-work\\\\will-grayson-ML\\\\test\\\\\"\n",
    "\n",
    "# Function to load and concatenate CSV files from a list of file paths\n",
    "def load_and_concat(files, sample_fraction=None):\n",
    "    df_list = []\n",
    "    for file in files:\n",
    "        df = pd.read_csv(file)\n",
    "        if sample_fraction:\n",
    "            df = df.sample(frac=sample_fraction, random_state=42)  # Random sampling\n",
    "        df_list.append(df)\n",
    "    return pd.concat(df_list, ignore_index=True)\n",
    "\n",
    "# List all CSV files in the train and test folders\n",
    "train_files = glob.glob(train_folder + \"*.csv\")\n",
    "test_files = glob.glob(test_folder + \"*.csv\")\n",
    "\n",
    "# Load and concatenate training and testing data\n",
    "train_df = load_and_concat(train_files, sample_fraction=0.1)  # Use 10% of the data\n",
    "test_df = load_and_concat(test_files, sample_fraction=0.1)"
   ]
  },
  {
   "cell_type": "code",
   "execution_count": 3,
   "metadata": {},
   "outputs": [],
   "source": [
    "feature_columns = [col for col in train_df.columns if col not in ['benign', 'attack']]\n",
    "\n",
    "# Separate features and labels\n",
    "X_train = train_df[feature_columns]\n",
    "y_train = train_df['attack']\n",
    "X_test = test_df[feature_columns]\n",
    "y_test = test_df['attack']\n",
    "\n",
    "# Create a scaler object\n",
    "scaler = MinMaxScaler()\n",
    "\n",
    "# Fit the scaler to the training features and transform both training and testing features\n",
    "X_train_scaled = scaler.fit_transform(X_train)\n",
    "X_test_scaled = scaler.transform(X_test)"
   ]
  },
  {
   "cell_type": "code",
   "execution_count": 4,
   "metadata": {},
   "outputs": [
    {
     "name": "stderr",
     "output_type": "stream",
     "text": [
      "c:\\Users\\grays\\AppData\\Local\\Programs\\Python\\Python39\\lib\\site-packages\\keras\\src\\layers\\core\\dense.py:87: UserWarning: Do not pass an `input_shape`/`input_dim` argument to a layer. When using Sequential models, prefer using an `Input(shape)` object as the first layer in the model instead.\n",
      "  super().__init__(activity_regularizer=activity_regularizer, **kwargs)\n"
     ]
    }
   ],
   "source": [
    "# Build the DNN model\n",
    "model = Sequential()\n",
    "model.add(Dense(128, input_dim=len(feature_columns), activation='relu'))\n",
    "model.add(Dropout(0.5))\n",
    "model.add(Dense(64, activation='relu'))\n",
    "model.add(Dropout(0.5))\n",
    "model.add(Dense(32, activation='relu'))\n",
    "model.add(Dense(1, activation='sigmoid'))\n",
    "\n",
    "# Compile the model\n",
    "model.compile(optimizer='adam', loss='binary_crossentropy', metrics=['accuracy'])"
   ]
  },
  {
   "cell_type": "code",
   "execution_count": 6,
   "metadata": {},
   "outputs": [
    {
     "name": "stdout",
     "output_type": "stream",
     "text": [
      "Epoch 1/25\n",
      "\u001b[1m4476/4476\u001b[0m \u001b[32m━━━━━━━━━━━━━━━━━━━━\u001b[0m\u001b[37m\u001b[0m \u001b[1m9s\u001b[0m 2ms/step - accuracy: 0.9952 - loss: 0.0119 - val_accuracy: 0.9995 - val_loss: 0.0016\n",
      "Epoch 2/25\n",
      "\u001b[1m4476/4476\u001b[0m \u001b[32m━━━━━━━━━━━━━━━━━━━━\u001b[0m\u001b[37m\u001b[0m \u001b[1m8s\u001b[0m 2ms/step - accuracy: 0.9958 - loss: 0.0104 - val_accuracy: 0.9995 - val_loss: 0.0015\n",
      "Epoch 3/25\n",
      "\u001b[1m4476/4476\u001b[0m \u001b[32m━━━━━━━━━━━━━━━━━━━━\u001b[0m\u001b[37m\u001b[0m \u001b[1m9s\u001b[0m 2ms/step - accuracy: 0.9958 - loss: 0.0101 - val_accuracy: 0.9996 - val_loss: 0.0017\n",
      "Epoch 4/25\n",
      "\u001b[1m4476/4476\u001b[0m \u001b[32m━━━━━━━━━━━━━━━━━━━━\u001b[0m\u001b[37m\u001b[0m \u001b[1m8s\u001b[0m 2ms/step - accuracy: 0.9959 - loss: 0.0097 - val_accuracy: 0.9996 - val_loss: 0.0017\n",
      "Epoch 5/25\n",
      "\u001b[1m4476/4476\u001b[0m \u001b[32m━━━━━━━━━━━━━━━━━━━━\u001b[0m\u001b[37m\u001b[0m \u001b[1m8s\u001b[0m 2ms/step - accuracy: 0.9960 - loss: 0.0091 - val_accuracy: 0.9996 - val_loss: 0.0012\n",
      "Epoch 6/25\n",
      "\u001b[1m4476/4476\u001b[0m \u001b[32m━━━━━━━━━━━━━━━━━━━━\u001b[0m\u001b[37m\u001b[0m \u001b[1m10s\u001b[0m 2ms/step - accuracy: 0.9960 - loss: 0.0093 - val_accuracy: 0.9999 - val_loss: 6.8499e-04\n",
      "Epoch 7/25\n",
      "\u001b[1m4476/4476\u001b[0m \u001b[32m━━━━━━━━━━━━━━━━━━━━\u001b[0m\u001b[37m\u001b[0m \u001b[1m8s\u001b[0m 2ms/step - accuracy: 0.9962 - loss: 0.0090 - val_accuracy: 0.9997 - val_loss: 9.5838e-04\n",
      "Epoch 8/25\n",
      "\u001b[1m4476/4476\u001b[0m \u001b[32m━━━━━━━━━━━━━━━━━━━━\u001b[0m\u001b[37m\u001b[0m \u001b[1m8s\u001b[0m 2ms/step - accuracy: 0.9962 - loss: 0.0091 - val_accuracy: 0.9998 - val_loss: 8.5094e-04\n",
      "Epoch 9/25\n",
      "\u001b[1m4476/4476\u001b[0m \u001b[32m━━━━━━━━━━━━━━━━━━━━\u001b[0m\u001b[37m\u001b[0m \u001b[1m8s\u001b[0m 2ms/step - accuracy: 0.9961 - loss: 0.0089 - val_accuracy: 0.9997 - val_loss: 0.0010\n",
      "Epoch 10/25\n",
      "\u001b[1m4476/4476\u001b[0m \u001b[32m━━━━━━━━━━━━━━━━━━━━\u001b[0m\u001b[37m\u001b[0m \u001b[1m10s\u001b[0m 2ms/step - accuracy: 0.9963 - loss: 0.0089 - val_accuracy: 0.9997 - val_loss: 7.1948e-04\n",
      "Epoch 11/25\n",
      "\u001b[1m4476/4476\u001b[0m \u001b[32m━━━━━━━━━━━━━━━━━━━━\u001b[0m\u001b[37m\u001b[0m \u001b[1m8s\u001b[0m 2ms/step - accuracy: 0.9962 - loss: 0.0087 - val_accuracy: 0.9997 - val_loss: 8.3516e-04\n",
      "Epoch 12/25\n",
      "\u001b[1m4476/4476\u001b[0m \u001b[32m━━━━━━━━━━━━━━━━━━━━\u001b[0m\u001b[37m\u001b[0m \u001b[1m8s\u001b[0m 2ms/step - accuracy: 0.9962 - loss: 0.0088 - val_accuracy: 0.9995 - val_loss: 0.0016\n",
      "Epoch 13/25\n",
      "\u001b[1m4476/4476\u001b[0m \u001b[32m━━━━━━━━━━━━━━━━━━━━\u001b[0m\u001b[37m\u001b[0m \u001b[1m8s\u001b[0m 2ms/step - accuracy: 0.9963 - loss: 0.0087 - val_accuracy: 0.9999 - val_loss: 9.0031e-04\n",
      "Epoch 14/25\n",
      "\u001b[1m4476/4476\u001b[0m \u001b[32m━━━━━━━━━━━━━━━━━━━━\u001b[0m\u001b[37m\u001b[0m \u001b[1m8s\u001b[0m 2ms/step - accuracy: 0.9962 - loss: 0.0086 - val_accuracy: 0.9997 - val_loss: 0.0010\n",
      "Epoch 15/25\n",
      "\u001b[1m4476/4476\u001b[0m \u001b[32m━━━━━━━━━━━━━━━━━━━━\u001b[0m\u001b[37m\u001b[0m \u001b[1m8s\u001b[0m 2ms/step - accuracy: 0.9964 - loss: 0.0086 - val_accuracy: 0.9997 - val_loss: 6.3791e-04\n",
      "Epoch 16/25\n",
      "\u001b[1m4476/4476\u001b[0m \u001b[32m━━━━━━━━━━━━━━━━━━━━\u001b[0m\u001b[37m\u001b[0m \u001b[1m8s\u001b[0m 2ms/step - accuracy: 0.9963 - loss: 0.0086 - val_accuracy: 0.9997 - val_loss: 9.1246e-04\n",
      "Epoch 17/25\n",
      "\u001b[1m4476/4476\u001b[0m \u001b[32m━━━━━━━━━━━━━━━━━━━━\u001b[0m\u001b[37m\u001b[0m \u001b[1m10s\u001b[0m 2ms/step - accuracy: 0.9963 - loss: 0.0086 - val_accuracy: 0.9998 - val_loss: 7.7207e-04\n",
      "Epoch 18/25\n",
      "\u001b[1m4476/4476\u001b[0m \u001b[32m━━━━━━━━━━━━━━━━━━━━\u001b[0m\u001b[37m\u001b[0m \u001b[1m8s\u001b[0m 2ms/step - accuracy: 0.9964 - loss: 0.0085 - val_accuracy: 0.9997 - val_loss: 0.0010\n",
      "Epoch 19/25\n",
      "\u001b[1m4476/4476\u001b[0m \u001b[32m━━━━━━━━━━━━━━━━━━━━\u001b[0m\u001b[37m\u001b[0m \u001b[1m10s\u001b[0m 2ms/step - accuracy: 0.9964 - loss: 0.0084 - val_accuracy: 0.9997 - val_loss: 0.0010\n",
      "Epoch 20/25\n",
      "\u001b[1m4476/4476\u001b[0m \u001b[32m━━━━━━━━━━━━━━━━━━━━\u001b[0m\u001b[37m\u001b[0m \u001b[1m8s\u001b[0m 2ms/step - accuracy: 0.9964 - loss: 0.0084 - val_accuracy: 0.9995 - val_loss: 0.0012\n",
      "Epoch 21/25\n",
      "\u001b[1m4476/4476\u001b[0m \u001b[32m━━━━━━━━━━━━━━━━━━━━\u001b[0m\u001b[37m\u001b[0m \u001b[1m8s\u001b[0m 2ms/step - accuracy: 0.9963 - loss: 0.0087 - val_accuracy: 0.9997 - val_loss: 8.0179e-04\n",
      "Epoch 22/25\n",
      "\u001b[1m4476/4476\u001b[0m \u001b[32m━━━━━━━━━━━━━━━━━━━━\u001b[0m\u001b[37m\u001b[0m \u001b[1m8s\u001b[0m 2ms/step - accuracy: 0.9962 - loss: 0.0085 - val_accuracy: 0.9997 - val_loss: 7.5333e-04\n",
      "Epoch 23/25\n",
      "\u001b[1m4476/4476\u001b[0m \u001b[32m━━━━━━━━━━━━━━━━━━━━\u001b[0m\u001b[37m\u001b[0m \u001b[1m8s\u001b[0m 2ms/step - accuracy: 0.9962 - loss: 0.0086 - val_accuracy: 0.9999 - val_loss: 6.1744e-04\n",
      "Epoch 24/25\n",
      "\u001b[1m4476/4476\u001b[0m \u001b[32m━━━━━━━━━━━━━━━━━━━━\u001b[0m\u001b[37m\u001b[0m \u001b[1m11s\u001b[0m 2ms/step - accuracy: 0.9963 - loss: 0.0084 - val_accuracy: 0.9998 - val_loss: 7.4807e-04\n",
      "Epoch 25/25\n",
      "\u001b[1m4476/4476\u001b[0m \u001b[32m━━━━━━━━━━━━━━━━━━━━\u001b[0m\u001b[37m\u001b[0m \u001b[1m10s\u001b[0m 2ms/step - accuracy: 0.9964 - loss: 0.0084 - val_accuracy: 0.9999 - val_loss: 9.0105e-04\n",
      "\u001b[1m5045/5045\u001b[0m \u001b[32m━━━━━━━━━━━━━━━━━━━━\u001b[0m\u001b[37m\u001b[0m \u001b[1m4s\u001b[0m 740us/step\n",
      "[[  3410    351]\n",
      " [   277 157381]]\n",
      "              precision    recall  f1-score   support\n",
      "\n",
      "           0       0.92      0.91      0.92      3761\n",
      "           1       1.00      1.00      1.00    157658\n",
      "\n",
      "    accuracy                           1.00    161419\n",
      "   macro avg       0.96      0.95      0.96    161419\n",
      "weighted avg       1.00      1.00      1.00    161419\n",
      "\n"
     ]
    }
   ],
   "source": [
    "# Train the model\n",
    "model.fit(X_train_scaled, y_train, epochs=25, batch_size=128, validation_split=0.2)\n",
    "\n",
    "# Make predictions\n",
    "y_pred = (model.predict(X_test_scaled) > 0.5).astype(\"int32\")\n",
    "\n",
    "# Evaluate the model\n",
    "print(confusion_matrix(y_test, y_pred))\n",
    "print(classification_report(y_test, y_pred))\n"
   ]
  }
 ],
 "metadata": {
  "kernelspec": {
   "display_name": "Python 3",
   "language": "python",
   "name": "python3"
  },
  "language_info": {
   "codemirror_mode": {
    "name": "ipython",
    "version": 3
   },
   "file_extension": ".py",
   "mimetype": "text/x-python",
   "name": "python",
   "nbconvert_exporter": "python",
   "pygments_lexer": "ipython3",
   "version": "3.9.7"
  }
 },
 "nbformat": 4,
 "nbformat_minor": 2
}
