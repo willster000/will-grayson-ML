{
 "cells": [
  {
   "cell_type": "code",
   "execution_count": 3,
   "metadata": {},
   "outputs": [],
   "source": [
    "import pandas as pd\n",
    "import glob\n",
    "from sklearn.preprocessing import MinMaxScaler\n",
    "from sklearn.metrics import classification_report, confusion_matrix\n",
    "import tensorflow as tf\n",
    "from tensorflow.keras.models import Sequential\n",
<<<<<<< HEAD
    "from tensorflow.keras.layers import Dense, Dropout\n",
    "from tensorflow.keras.utils import to_categorical\n",
    "import os\n"
=======
    "from tensorflow.keras.layers import Dense, Dropout\n"
>>>>>>> 7b4a2149c5ac82ce2b82af480e9da924081a4736
   ]
  },
  {
   "cell_type": "code",
   "execution_count": 4,
   "metadata": {},
   "outputs": [
    {
     "name": "stdout",
     "output_type": "stream",
     "text": [
      "Train folder exists: C:\\Users\\willg\\OneDrive\\CSCI\\summer-2024-work\\will-grayson-ML\\six-class\\data\\train\n",
      "Test folder exists: C:\\Users\\willg\\OneDrive\\CSCI\\summer-2024-work\\will-grayson-ML\\six-class\\data\\test\n",
      "Files in train folder: ['ARP_Spoofing_train.pcap.csv', 'Benign_train.pcap.csv', 'MQTT-DDoS-Connect_Flood_train.pcap.csv', 'MQTT-DDoS-Publish_Flood_train.pcap.csv', 'MQTT-DoS-Connect_Flood_train.pcap.csv', 'MQTT-DoS-Publish_Flood_train.pcap.csv', 'MQTT-Malformed_Data_train.pcap.csv', 'Recon-OS_Scan_train.pcap.csv', 'Recon-Ping_Sweep_train.pcap.csv', 'Recon-Port_Scan_train.pcap.csv', 'Recon-VulScan_train.pcap.csv', 'TCP_IP-DDoS-ICMP1_train.pcap.csv', 'TCP_IP-DDoS-ICMP2_train.pcap.csv', 'TCP_IP-DDoS-ICMP3_train.pcap.csv', 'TCP_IP-DDoS-ICMP4_train.pcap.csv', 'TCP_IP-DDoS-ICMP5_train.pcap.csv', 'TCP_IP-DDoS-ICMP6_train.pcap.csv', 'TCP_IP-DDoS-ICMP7_train.pcap.csv', 'TCP_IP-DDoS-ICMP8_train.pcap.csv', 'TCP_IP-DDoS-SYN1_train.pcap.csv', 'TCP_IP-DDoS-SYN2_train.pcap.csv', 'TCP_IP-DDoS-SYN3_train.pcap.csv', 'TCP_IP-DDoS-SYN4_train.pcap.csv', 'TCP_IP-DDoS-TCP1_train.pcap.csv', 'TCP_IP-DDoS-TCP2_train.pcap.csv', 'TCP_IP-DDoS-TCP3_train.pcap.csv', 'TCP_IP-DDoS-TCP4_train.pcap.csv', 'TCP_IP-DDoS-UDP1_train.pcap.csv', 'TCP_IP-DDoS-UDP2_train.pcap.csv', 'TCP_IP-DDoS-UDP3_train.pcap.csv', 'TCP_IP-DDoS-UDP4_train.pcap.csv', 'TCP_IP-DDoS-UDP5_train.pcap.csv', 'TCP_IP-DDoS-UDP6_train.pcap.csv', 'TCP_IP-DDoS-UDP7_train.pcap.csv', 'TCP_IP-DDoS-UDP8_train.pcap.csv', 'TCP_IP-DoS-ICMP1_train.pcap.csv', 'TCP_IP-DoS-ICMP2_train.pcap.csv', 'TCP_IP-DoS-ICMP3_train.pcap.csv', 'TCP_IP-DoS-ICMP4_train.pcap.csv', 'TCP_IP-DoS-SYN1_train.pcap.csv', 'TCP_IP-DoS-SYN2_train.pcap.csv', 'TCP_IP-DoS-SYN3_train.pcap.csv', 'TCP_IP-DoS-SYN4_train.pcap.csv', 'TCP_IP-DoS-TCP1_train.pcap.csv', 'TCP_IP-DoS-TCP2_train.pcap.csv', 'TCP_IP-DoS-TCP3_train.pcap.csv', 'TCP_IP-DoS-TCP4_train.pcap.csv', 'TCP_IP-DoS-UDP1_train.pcap.csv', 'TCP_IP-DoS-UDP2_train.pcap.csv', 'TCP_IP-DoS-UDP3_train.pcap.csv', 'TCP_IP-DoS-UDP4_train.pcap.csv']\n",
      "Files in test folder: ['ARP_Spoofing_test.pcap.csv', 'Benign_test.pcap.csv', 'MQTT-DDoS-Connect_Flood_test.pcap.csv', 'MQTT-DDoS-Publish_Flood_test.pcap.csv', 'MQTT-DoS-Connect_Flood_test.pcap.csv', 'MQTT-DoS-Publish_Flood_test.pcap.csv', 'MQTT-Malformed_Data_test.pcap.csv', 'Recon-OS_Scan_test.pcap.csv', 'Recon-Ping_Sweep_test.pcap.csv', 'Recon-Port_Scan_test.pcap.csv', 'Recon-VulScan_test.pcap.csv', 'TCP_IP-DDoS-ICMP1_test.pcap.csv', 'TCP_IP-DDoS-ICMP2_test.pcap.csv', 'TCP_IP-DDoS-SYN_test.pcap.csv', 'TCP_IP-DDoS-TCP_test.pcap.csv', 'TCP_IP-DDoS-UDP1_test.pcap.csv', 'TCP_IP-DDoS-UDP2_test.pcap.csv', 'TCP_IP-DoS-ICMP_test.pcap.csv', 'TCP_IP-DoS-SYN_test.pcap.csv', 'TCP_IP-DoS-TCP_test.pcap.csv', 'TCP_IP-DoS-UDP_test.pcap.csv']\n"
     ]
    },
    {
     "ename": "ValueError",
     "evalue": "No objects to concatenate",
     "output_type": "error",
     "traceback": [
      "\u001b[1;31m---------------------------------------------------------------------------\u001b[0m",
      "\u001b[1;31mValueError\u001b[0m                                Traceback (most recent call last)",
      "Cell \u001b[1;32mIn[4], line 39\u001b[0m\n\u001b[0;32m     36\u001b[0m test_files \u001b[38;5;241m=\u001b[39m glob\u001b[38;5;241m.\u001b[39mglob(test_folder \u001b[38;5;241m+\u001b[39m \u001b[38;5;124m\"\u001b[39m\u001b[38;5;124m*.csv\u001b[39m\u001b[38;5;124m\"\u001b[39m)\n\u001b[0;32m     38\u001b[0m \u001b[38;5;66;03m# Load and concatenate training and testing data\u001b[39;00m\n\u001b[1;32m---> 39\u001b[0m train_df \u001b[38;5;241m=\u001b[39m \u001b[43mload_and_concat\u001b[49m\u001b[43m(\u001b[49m\u001b[43mtrain_files\u001b[49m\u001b[43m,\u001b[49m\u001b[43m \u001b[49m\u001b[43msample_fraction\u001b[49m\u001b[38;5;241;43m=\u001b[39;49m\u001b[38;5;241;43m0.1\u001b[39;49m\u001b[43m)\u001b[49m  \u001b[38;5;66;03m# Use 10% of the data\u001b[39;00m\n\u001b[0;32m     40\u001b[0m test_df \u001b[38;5;241m=\u001b[39m load_and_concat(test_files, sample_fraction\u001b[38;5;241m=\u001b[39m\u001b[38;5;241m0.1\u001b[39m)\n",
      "Cell \u001b[1;32mIn[4], line 32\u001b[0m, in \u001b[0;36mload_and_concat\u001b[1;34m(files, sample_fraction)\u001b[0m\n\u001b[0;32m     30\u001b[0m         df \u001b[38;5;241m=\u001b[39m df\u001b[38;5;241m.\u001b[39msample(frac\u001b[38;5;241m=\u001b[39msample_fraction, random_state\u001b[38;5;241m=\u001b[39m\u001b[38;5;241m42\u001b[39m)  \u001b[38;5;66;03m# Random sampling\u001b[39;00m\n\u001b[0;32m     31\u001b[0m     df_list\u001b[38;5;241m.\u001b[39mappend(df)\n\u001b[1;32m---> 32\u001b[0m \u001b[38;5;28;01mreturn\u001b[39;00m \u001b[43mpd\u001b[49m\u001b[38;5;241;43m.\u001b[39;49m\u001b[43mconcat\u001b[49m\u001b[43m(\u001b[49m\u001b[43mdf_list\u001b[49m\u001b[43m,\u001b[49m\u001b[43m \u001b[49m\u001b[43mignore_index\u001b[49m\u001b[38;5;241;43m=\u001b[39;49m\u001b[38;5;28;43;01mTrue\u001b[39;49;00m\u001b[43m)\u001b[49m\n",
      "File \u001b[1;32mc:\\python\\lib\\site-packages\\pandas\\core\\reshape\\concat.py:380\u001b[0m, in \u001b[0;36mconcat\u001b[1;34m(objs, axis, join, ignore_index, keys, levels, names, verify_integrity, sort, copy)\u001b[0m\n\u001b[0;32m    377\u001b[0m \u001b[38;5;28;01melif\u001b[39;00m copy \u001b[38;5;129;01mand\u001b[39;00m using_copy_on_write():\n\u001b[0;32m    378\u001b[0m     copy \u001b[38;5;241m=\u001b[39m \u001b[38;5;28;01mFalse\u001b[39;00m\n\u001b[1;32m--> 380\u001b[0m op \u001b[38;5;241m=\u001b[39m \u001b[43m_Concatenator\u001b[49m\u001b[43m(\u001b[49m\n\u001b[0;32m    381\u001b[0m \u001b[43m    \u001b[49m\u001b[43mobjs\u001b[49m\u001b[43m,\u001b[49m\n\u001b[0;32m    382\u001b[0m \u001b[43m    \u001b[49m\u001b[43maxis\u001b[49m\u001b[38;5;241;43m=\u001b[39;49m\u001b[43maxis\u001b[49m\u001b[43m,\u001b[49m\n\u001b[0;32m    383\u001b[0m \u001b[43m    \u001b[49m\u001b[43mignore_index\u001b[49m\u001b[38;5;241;43m=\u001b[39;49m\u001b[43mignore_index\u001b[49m\u001b[43m,\u001b[49m\n\u001b[0;32m    384\u001b[0m \u001b[43m    \u001b[49m\u001b[43mjoin\u001b[49m\u001b[38;5;241;43m=\u001b[39;49m\u001b[43mjoin\u001b[49m\u001b[43m,\u001b[49m\n\u001b[0;32m    385\u001b[0m \u001b[43m    \u001b[49m\u001b[43mkeys\u001b[49m\u001b[38;5;241;43m=\u001b[39;49m\u001b[43mkeys\u001b[49m\u001b[43m,\u001b[49m\n\u001b[0;32m    386\u001b[0m \u001b[43m    \u001b[49m\u001b[43mlevels\u001b[49m\u001b[38;5;241;43m=\u001b[39;49m\u001b[43mlevels\u001b[49m\u001b[43m,\u001b[49m\n\u001b[0;32m    387\u001b[0m \u001b[43m    \u001b[49m\u001b[43mnames\u001b[49m\u001b[38;5;241;43m=\u001b[39;49m\u001b[43mnames\u001b[49m\u001b[43m,\u001b[49m\n\u001b[0;32m    388\u001b[0m \u001b[43m    \u001b[49m\u001b[43mverify_integrity\u001b[49m\u001b[38;5;241;43m=\u001b[39;49m\u001b[43mverify_integrity\u001b[49m\u001b[43m,\u001b[49m\n\u001b[0;32m    389\u001b[0m \u001b[43m    \u001b[49m\u001b[43mcopy\u001b[49m\u001b[38;5;241;43m=\u001b[39;49m\u001b[43mcopy\u001b[49m\u001b[43m,\u001b[49m\n\u001b[0;32m    390\u001b[0m \u001b[43m    \u001b[49m\u001b[43msort\u001b[49m\u001b[38;5;241;43m=\u001b[39;49m\u001b[43msort\u001b[49m\u001b[43m,\u001b[49m\n\u001b[0;32m    391\u001b[0m \u001b[43m\u001b[49m\u001b[43m)\u001b[49m\n\u001b[0;32m    393\u001b[0m \u001b[38;5;28;01mreturn\u001b[39;00m op\u001b[38;5;241m.\u001b[39mget_result()\n",
      "File \u001b[1;32mc:\\python\\lib\\site-packages\\pandas\\core\\reshape\\concat.py:443\u001b[0m, in \u001b[0;36m_Concatenator.__init__\u001b[1;34m(self, objs, axis, join, keys, levels, names, ignore_index, verify_integrity, copy, sort)\u001b[0m\n\u001b[0;32m    440\u001b[0m \u001b[38;5;28mself\u001b[39m\u001b[38;5;241m.\u001b[39mverify_integrity \u001b[38;5;241m=\u001b[39m verify_integrity\n\u001b[0;32m    441\u001b[0m \u001b[38;5;28mself\u001b[39m\u001b[38;5;241m.\u001b[39mcopy \u001b[38;5;241m=\u001b[39m copy\n\u001b[1;32m--> 443\u001b[0m objs, keys \u001b[38;5;241m=\u001b[39m \u001b[38;5;28;43mself\u001b[39;49m\u001b[38;5;241;43m.\u001b[39;49m\u001b[43m_clean_keys_and_objs\u001b[49m\u001b[43m(\u001b[49m\u001b[43mobjs\u001b[49m\u001b[43m,\u001b[49m\u001b[43m \u001b[49m\u001b[43mkeys\u001b[49m\u001b[43m)\u001b[49m\n\u001b[0;32m    445\u001b[0m \u001b[38;5;66;03m# figure out what our result ndim is going to be\u001b[39;00m\n\u001b[0;32m    446\u001b[0m ndims \u001b[38;5;241m=\u001b[39m \u001b[38;5;28mself\u001b[39m\u001b[38;5;241m.\u001b[39m_get_ndims(objs)\n",
      "File \u001b[1;32mc:\\python\\lib\\site-packages\\pandas\\core\\reshape\\concat.py:505\u001b[0m, in \u001b[0;36m_Concatenator._clean_keys_and_objs\u001b[1;34m(self, objs, keys)\u001b[0m\n\u001b[0;32m    502\u001b[0m     objs_list \u001b[38;5;241m=\u001b[39m \u001b[38;5;28mlist\u001b[39m(objs)\n\u001b[0;32m    504\u001b[0m \u001b[38;5;28;01mif\u001b[39;00m \u001b[38;5;28mlen\u001b[39m(objs_list) \u001b[38;5;241m==\u001b[39m \u001b[38;5;241m0\u001b[39m:\n\u001b[1;32m--> 505\u001b[0m     \u001b[38;5;28;01mraise\u001b[39;00m \u001b[38;5;167;01mValueError\u001b[39;00m(\u001b[38;5;124m\"\u001b[39m\u001b[38;5;124mNo objects to concatenate\u001b[39m\u001b[38;5;124m\"\u001b[39m)\n\u001b[0;32m    507\u001b[0m \u001b[38;5;28;01mif\u001b[39;00m keys \u001b[38;5;129;01mis\u001b[39;00m \u001b[38;5;28;01mNone\u001b[39;00m:\n\u001b[0;32m    508\u001b[0m     objs_list \u001b[38;5;241m=\u001b[39m \u001b[38;5;28mlist\u001b[39m(com\u001b[38;5;241m.\u001b[39mnot_none(\u001b[38;5;241m*\u001b[39mobjs_list))\n",
      "\u001b[1;31mValueError\u001b[0m: No objects to concatenate"
     ]
    }
   ],
   "source": [
    "# Grayson's path\n",
    "#train_folder = \"C:\\\\Users\\\\grays\\\\Will-Grayson GitHub Repo\\\\will-grayson-ML\\\\two-class\\\\data\\\\train\\\\\"\n",
    "#test_folder = \"C:\\\\Users\\\\grays\\\\Will-Grayson GitHub Repo\\\\will-grayson-ML\\\\two-class\\\\data\\\\test\\\\\"\n",
    "\n",
    "# Will's path (comment out if not in use)\n",
    "train_folder = \"C:\\\\Users\\\\willg\\\\OneDrive\\\\CSCI\\\\summer-2024-work\\\\will-grayson-ML\\\\six-class\\\\data\\\\train\"\n",
    "test_folder = \"C:\\\\Users\\\\willg\\\\OneDrive\\\\CSCI\\\\summer-2024-work\\\\will-grayson-ML\\\\six-class\\\\data\\\\test\"\n",
    "\n",
    "# Check if the directories exist\n",
    "if os.path.isdir(train_folder):\n",
    "    print(f\"Train folder exists: {train_folder}\")\n",
    "else:\n",
    "    print(f\"Train folder does not exist: {train_folder}\")\n",
    "\n",
    "if os.path.isdir(test_folder):\n",
    "    print(f\"Test folder exists: {test_folder}\")\n",
    "else:\n",
    "    print(f\"Test folder does not exist: {test_folder}\")\n",
    "\n",
    "# List the files in the directories\n",
    "print(f\"Files in train folder: {os.listdir(train_folder)}\")\n",
    "print(f\"Files in test folder: {os.listdir(test_folder)}\")\n",
    "\n",
    "# Function to load and concatenate CSV files from a list of file paths\n",
    "def load_and_concat(files, sample_fraction=None):\n",
    "    df_list = []\n",
    "    for file in files:\n",
    "        df = pd.read_csv(file)\n",
    "        if sample_fraction:\n",
    "            df = df.sample(frac=sample_fraction, random_state=42)  # Random sampling\n",
    "        df_list.append(df)\n",
    "    return pd.concat(df_list, ignore_index=True)\n",
    "\n",
    "# List all CSV files in the train and test folders\n",
    "train_files = glob.glob(train_folder + \"*.csv\")\n",
    "test_files = glob.glob(test_folder + \"*.csv\")\n",
    "\n",
    "# Load and concatenate training and testing data\n",
    "train_df = load_and_concat(train_files, sample_fraction=0.1)  # Use 10% of the data\n",
    "test_df = load_and_concat(test_files, sample_fraction=0.1)"
   ]
  },
  {
   "cell_type": "code",
   "execution_count": null,
   "metadata": {},
   "outputs": [],
   "source": [
    "feature_columns = [col for col in train_df.columns if col not in ['benign', 'attack']]\n",
    "\n",
    "# Separate features and labels\n",
    "X_train = train_df[feature_columns]\n",
    "y_train = train_df['attack']\n",
    "X_test = test_df[feature_columns]\n",
    "y_test = test_df['attack']\n",
    "\n",
    "# Create a scaler object\n",
    "scaler = MinMaxScaler()\n",
    "\n",
    "# Fit the scaler to the training features and transform both training and testing features\n",
    "X_train_scaled = scaler.fit_transform(X_train)\n",
    "X_test_scaled = scaler.transform(X_test)\n"
   ]
  },
  {
   "cell_type": "code",
   "execution_count": null,
   "metadata": {},
   "outputs": [
    {
     "name": "stderr",
     "output_type": "stream",
     "text": [
      "c:\\Users\\grays\\AppData\\Local\\Programs\\Python\\Python39\\lib\\site-packages\\keras\\src\\layers\\core\\dense.py:87: UserWarning: Do not pass an `input_shape`/`input_dim` argument to a layer. When using Sequential models, prefer using an `Input(shape)` object as the first layer in the model instead.\n",
      "  super().__init__(activity_regularizer=activity_regularizer, **kwargs)\n"
     ]
    }
   ],
   "source": [
    "# Build the DNN model\n",
    "model = Sequential()\n",
    "model.add(Dense(128, input_dim=len(feature_columns), activation='relu'))\n",
    "model.add(Dropout(0.5))\n",
    "model.add(Dense(64, activation='relu'))\n",
    "model.add(Dropout(0.5))\n",
    "model.add(Dense(32, activation='relu'))\n",
    "model.add(Dense(1, activation='sigmoid'))\n",
    "\n",
    "# Compile the model\n",
    "model.compile(optimizer='adam', loss='binary_crossentropy', metrics=['accuracy'])\n"
   ]
  },
  {
   "cell_type": "code",
   "execution_count": null,
   "metadata": {},
   "outputs": [
    {
     "name": "stdout",
     "output_type": "stream",
     "text": [
      "Epoch 1/25\n",
      "\u001b[1m4476/4476\u001b[0m \u001b[32m━━━━━━━━━━━━━━━━━━━━\u001b[0m\u001b[37m\u001b[0m \u001b[1m9s\u001b[0m 2ms/step - accuracy: 0.9952 - loss: 0.0119 - val_accuracy: 0.9995 - val_loss: 0.0016\n",
      "Epoch 2/25\n",
      "\u001b[1m4476/4476\u001b[0m \u001b[32m━━━━━━━━━━━━━━━━━━━━\u001b[0m\u001b[37m\u001b[0m \u001b[1m8s\u001b[0m 2ms/step - accuracy: 0.9958 - loss: 0.0104 - val_accuracy: 0.9995 - val_loss: 0.0015\n",
      "Epoch 3/25\n",
      "\u001b[1m4476/4476\u001b[0m \u001b[32m━━━━━━━━━━━━━━━━━━━━\u001b[0m\u001b[37m\u001b[0m \u001b[1m9s\u001b[0m 2ms/step - accuracy: 0.9958 - loss: 0.0101 - val_accuracy: 0.9996 - val_loss: 0.0017\n",
      "Epoch 4/25\n",
      "\u001b[1m4476/4476\u001b[0m \u001b[32m━━━━━━━━━━━━━━━━━━━━\u001b[0m\u001b[37m\u001b[0m \u001b[1m8s\u001b[0m 2ms/step - accuracy: 0.9959 - loss: 0.0097 - val_accuracy: 0.9996 - val_loss: 0.0017\n",
      "Epoch 5/25\n",
      "\u001b[1m4476/4476\u001b[0m \u001b[32m━━━━━━━━━━━━━━━━━━━━\u001b[0m\u001b[37m\u001b[0m \u001b[1m8s\u001b[0m 2ms/step - accuracy: 0.9960 - loss: 0.0091 - val_accuracy: 0.9996 - val_loss: 0.0012\n",
      "Epoch 6/25\n",
      "\u001b[1m4476/4476\u001b[0m \u001b[32m━━━━━━━━━━━━━━━━━━━━\u001b[0m\u001b[37m\u001b[0m \u001b[1m10s\u001b[0m 2ms/step - accuracy: 0.9960 - loss: 0.0093 - val_accuracy: 0.9999 - val_loss: 6.8499e-04\n",
      "Epoch 7/25\n",
      "\u001b[1m4476/4476\u001b[0m \u001b[32m━━━━━━━━━━━━━━━━━━━━\u001b[0m\u001b[37m\u001b[0m \u001b[1m8s\u001b[0m 2ms/step - accuracy: 0.9962 - loss: 0.0090 - val_accuracy: 0.9997 - val_loss: 9.5838e-04\n",
      "Epoch 8/25\n",
      "\u001b[1m4476/4476\u001b[0m \u001b[32m━━━━━━━━━━━━━━━━━━━━\u001b[0m\u001b[37m\u001b[0m \u001b[1m8s\u001b[0m 2ms/step - accuracy: 0.9962 - loss: 0.0091 - val_accuracy: 0.9998 - val_loss: 8.5094e-04\n",
      "Epoch 9/25\n",
      "\u001b[1m4476/4476\u001b[0m \u001b[32m━━━━━━━━━━━━━━━━━━━━\u001b[0m\u001b[37m\u001b[0m \u001b[1m8s\u001b[0m 2ms/step - accuracy: 0.9961 - loss: 0.0089 - val_accuracy: 0.9997 - val_loss: 0.0010\n",
      "Epoch 10/25\n",
      "\u001b[1m4476/4476\u001b[0m \u001b[32m━━━━━━━━━━━━━━━━━━━━\u001b[0m\u001b[37m\u001b[0m \u001b[1m10s\u001b[0m 2ms/step - accuracy: 0.9963 - loss: 0.0089 - val_accuracy: 0.9997 - val_loss: 7.1948e-04\n",
      "Epoch 11/25\n",
      "\u001b[1m4476/4476\u001b[0m \u001b[32m━━━━━━━━━━━━━━━━━━━━\u001b[0m\u001b[37m\u001b[0m \u001b[1m8s\u001b[0m 2ms/step - accuracy: 0.9962 - loss: 0.0087 - val_accuracy: 0.9997 - val_loss: 8.3516e-04\n",
      "Epoch 12/25\n",
      "\u001b[1m4476/4476\u001b[0m \u001b[32m━━━━━━━━━━━━━━━━━━━━\u001b[0m\u001b[37m\u001b[0m \u001b[1m8s\u001b[0m 2ms/step - accuracy: 0.9962 - loss: 0.0088 - val_accuracy: 0.9995 - val_loss: 0.0016\n",
      "Epoch 13/25\n",
      "\u001b[1m4476/4476\u001b[0m \u001b[32m━━━━━━━━━━━━━━━━━━━━\u001b[0m\u001b[37m\u001b[0m \u001b[1m8s\u001b[0m 2ms/step - accuracy: 0.9963 - loss: 0.0087 - val_accuracy: 0.9999 - val_loss: 9.0031e-04\n",
      "Epoch 14/25\n",
      "\u001b[1m4476/4476\u001b[0m \u001b[32m━━━━━━━━━━━━━━━━━━━━\u001b[0m\u001b[37m\u001b[0m \u001b[1m8s\u001b[0m 2ms/step - accuracy: 0.9962 - loss: 0.0086 - val_accuracy: 0.9997 - val_loss: 0.0010\n",
      "Epoch 15/25\n",
      "\u001b[1m4476/4476\u001b[0m \u001b[32m━━━━━━━━━━━━━━━━━━━━\u001b[0m\u001b[37m\u001b[0m \u001b[1m8s\u001b[0m 2ms/step - accuracy: 0.9964 - loss: 0.0086 - val_accuracy: 0.9997 - val_loss: 6.3791e-04\n",
      "Epoch 16/25\n",
      "\u001b[1m4476/4476\u001b[0m \u001b[32m━━━━━━━━━━━━━━━━━━━━\u001b[0m\u001b[37m\u001b[0m \u001b[1m8s\u001b[0m 2ms/step - accuracy: 0.9963 - loss: 0.0086 - val_accuracy: 0.9997 - val_loss: 9.1246e-04\n",
      "Epoch 17/25\n",
      "\u001b[1m4476/4476\u001b[0m \u001b[32m━━━━━━━━━━━━━━━━━━━━\u001b[0m\u001b[37m\u001b[0m \u001b[1m10s\u001b[0m 2ms/step - accuracy: 0.9963 - loss: 0.0086 - val_accuracy: 0.9998 - val_loss: 7.7207e-04\n",
      "Epoch 18/25\n",
      "\u001b[1m4476/4476\u001b[0m \u001b[32m━━━━━━━━━━━━━━━━━━━━\u001b[0m\u001b[37m\u001b[0m \u001b[1m8s\u001b[0m 2ms/step - accuracy: 0.9964 - loss: 0.0085 - val_accuracy: 0.9997 - val_loss: 0.0010\n",
      "Epoch 19/25\n",
      "\u001b[1m4476/4476\u001b[0m \u001b[32m━━━━━━━━━━━━━━━━━━━━\u001b[0m\u001b[37m\u001b[0m \u001b[1m10s\u001b[0m 2ms/step - accuracy: 0.9964 - loss: 0.0084 - val_accuracy: 0.9997 - val_loss: 0.0010\n",
      "Epoch 20/25\n",
      "\u001b[1m4476/4476\u001b[0m \u001b[32m━━━━━━━━━━━━━━━━━━━━\u001b[0m\u001b[37m\u001b[0m \u001b[1m8s\u001b[0m 2ms/step - accuracy: 0.9964 - loss: 0.0084 - val_accuracy: 0.9995 - val_loss: 0.0012\n",
      "Epoch 21/25\n",
      "\u001b[1m4476/4476\u001b[0m \u001b[32m━━━━━━━━━━━━━━━━━━━━\u001b[0m\u001b[37m\u001b[0m \u001b[1m8s\u001b[0m 2ms/step - accuracy: 0.9963 - loss: 0.0087 - val_accuracy: 0.9997 - val_loss: 8.0179e-04\n",
      "Epoch 22/25\n",
      "\u001b[1m4476/4476\u001b[0m \u001b[32m━━━━━━━━━━━━━━━━━━━━\u001b[0m\u001b[37m\u001b[0m \u001b[1m8s\u001b[0m 2ms/step - accuracy: 0.9962 - loss: 0.0085 - val_accuracy: 0.9997 - val_loss: 7.5333e-04\n",
      "Epoch 23/25\n",
      "\u001b[1m4476/4476\u001b[0m \u001b[32m━━━━━━━━━━━━━━━━━━━━\u001b[0m\u001b[37m\u001b[0m \u001b[1m8s\u001b[0m 2ms/step - accuracy: 0.9962 - loss: 0.0086 - val_accuracy: 0.9999 - val_loss: 6.1744e-04\n",
      "Epoch 24/25\n",
      "\u001b[1m4476/4476\u001b[0m \u001b[32m━━━━━━━━━━━━━━━━━━━━\u001b[0m\u001b[37m\u001b[0m \u001b[1m11s\u001b[0m 2ms/step - accuracy: 0.9963 - loss: 0.0084 - val_accuracy: 0.9998 - val_loss: 7.4807e-04\n",
      "Epoch 25/25\n",
      "\u001b[1m4476/4476\u001b[0m \u001b[32m━━━━━━━━━━━━━━━━━━━━\u001b[0m\u001b[37m\u001b[0m \u001b[1m10s\u001b[0m 2ms/step - accuracy: 0.9964 - loss: 0.0084 - val_accuracy: 0.9999 - val_loss: 9.0105e-04\n",
      "\u001b[1m5045/5045\u001b[0m \u001b[32m━━━━━━━━━━━━━━━━━━━━\u001b[0m\u001b[37m\u001b[0m \u001b[1m4s\u001b[0m 740us/step\n",
      "[[  3410    351]\n",
      " [   277 157381]]\n",
      "              precision    recall  f1-score   support\n",
      "\n",
      "           0       0.92      0.91      0.92      3761\n",
      "           1       1.00      1.00      1.00    157658\n",
      "\n",
      "    accuracy                           1.00    161419\n",
      "   macro avg       0.96      0.95      0.96    161419\n",
      "weighted avg       1.00      1.00      1.00    161419\n",
      "\n"
     ]
    }
   ],
   "source": [
    "# Train the model\n",
    "model.fit(X_train_scaled, y_train, epochs=25, batch_size=128, validation_split=0.2)\n",
    "\n",
    "# Make predictions\n",
    "y_pred = (model.predict(X_test_scaled) > 0.5).astype(\"int32\")\n",
    "\n",
    "# Evaluate the model\n",
    "print(confusion_matrix(y_test, y_pred))\n",
    "print(classification_report(y_test, y_pred))\n"
   ]
  }
 ],
 "metadata": {
  "kernelspec": {
   "display_name": "Python 3",
   "language": "python",
   "name": "python3"
  },
  "language_info": {
   "codemirror_mode": {
    "name": "ipython",
    "version": 3
   },
   "file_extension": ".py",
   "mimetype": "text/x-python",
   "name": "python",
   "nbconvert_exporter": "python",
   "pygments_lexer": "ipython3",
   "version": "3.10.0"
  }
 },
 "nbformat": 4,
 "nbformat_minor": 2
}
