{
 "cells": [
  {
   "cell_type": "code",
   "execution_count": 1,
   "metadata": {},
   "outputs": [
    {
     "name": "stderr",
     "output_type": "stream",
     "text": [
      "C:\\Users\\willg\\AppData\\Local\\Temp\\ipykernel_28644\\1619710851.py:1: DeprecationWarning: \n",
      "Pyarrow will become a required dependency of pandas in the next major release of pandas (pandas 3.0),\n",
      "(to allow more performant data types, such as the Arrow string type, and better interoperability with other libraries)\n",
      "but was not found to be installed on your system.\n",
      "If this would cause problems for you,\n",
      "please provide us feedback at https://github.com/pandas-dev/pandas/issues/54466\n",
      "        \n",
      "  import pandas as pd\n"
     ]
    }
   ],
   "source": [
    "import pandas as pd\n",
    "import glob\n",
    "from sklearn.preprocessing import MinMaxScaler\n",
    "from sklearn.model_selection import train_test_split\n",
    "from sklearn.linear_model import LogisticRegression\n",
    "from sklearn.metrics import classification_report, confusion_matrix"
   ]
  },
  {
   "cell_type": "code",
   "execution_count": 2,
   "metadata": {},
   "outputs": [],
   "source": [
    "# Grayson's path\n",
    "#train_folder = \"C:\\\\Users\\\\grays\\\\Downloads\\\\train\\\\train\\\\\"\n",
    "#test_folder = \"C:\\\\Users\\\\grays\\\\Downloads\\\\test\\\\test\\\\\"\n",
    "\n",
    "# Will's path\n",
    "train_folder = \"C:\\\\Users\\\\willg\\\\OneDrive\\\\CSCI\\\\summer-2024-work\\\\will-grayson-ML\\\\train\\\\\"\n",
    "test_folder = \"C:\\\\Users\\\\willg\\\\OneDrive\\\\CSCI\\\\summer-2024-work\\\\will-grayson-ML\\\\test\\\\\"\n",
    "\n",
    "# List all CSV files in the train folder\n",
    "train_files = glob.glob(train_folder + \"*.csv\")\n",
    "test_files = glob.glob(test_folder + \"*.csv\")\n",
    "\n",
    "# Function to load and concatenate CSV files from a list of file paths\n",
    "def load_and_concat(files):\n",
    "    df_list = []\n",
    "    for file in files:\n",
    "        df = pd.read_csv(file)\n",
    "        df_list.append(df)\n",
    "    return pd.concat(df_list, ignore_index=True)\n",
    "\n",
    "# Load and concatenate training and testing data\n",
    "train_df = load_and_concat(train_files)\n",
    "test_df = load_and_concat(test_files)"
   ]
  },
  {
   "cell_type": "code",
   "execution_count": 3,
   "metadata": {},
   "outputs": [],
   "source": [
    "def label_data(df):\n",
    "    df['label'] = (df['ack_flag_number'] < 0.4).astype(int)\n",
    "    return df\n",
    "\n",
    "# Label the training and testing data\n",
    "train_df = label_data(train_df)\n",
    "test_df = label_data(test_df)\n",
    "\n",
    "# Separate features and labels\n",
    "X_train = train_df.drop(columns=['label'])\n",
    "y_train = train_df['label']\n",
    "X_test = test_df.drop(columns=['label'])\n",
    "y_test = test_df['label']\n",
    "\n",
    "# Create a scaler object\n",
    "scaler = MinMaxScaler()\n",
    "\n",
    "# Fit the scaler to the training features and transform both training and testing features\n",
    "X_train_scaled = scaler.fit_transform(X_train)\n",
    "X_test_scaled = scaler.transform(X_test)\n",
    "\n",
    "# Convert the scaled features to DataFrames\n",
    "X_train_scaled_df = pd.DataFrame(X_train_scaled, columns=X_train.columns)\n",
    "X_test_scaled_df = pd.DataFrame(X_test_scaled, columns=X_test.columns)"
   ]
  },
  {
   "cell_type": "code",
   "execution_count": 4,
   "metadata": {},
   "outputs": [
    {
     "name": "stdout",
     "output_type": "stream",
     "text": [
      "[[ 188870     418]\n",
      " [    447 1424447]]\n",
      "              precision    recall  f1-score   support\n",
      "\n",
      "           0       1.00      1.00      1.00    189288\n",
      "           1       1.00      1.00      1.00   1424894\n",
      "\n",
      "    accuracy                           1.00   1614182\n",
      "   macro avg       1.00      1.00      1.00   1614182\n",
      "weighted avg       1.00      1.00      1.00   1614182\n",
      "\n"
     ]
    }
   ],
   "source": [
    "model = LogisticRegression()\n",
    "\n",
    "# Train the model\n",
    "model.fit(X_train_scaled_df, y_train)\n",
    "\n",
    "# Make predictions\n",
    "y_pred = model.predict(X_test_scaled_df)\n",
    "\n",
    "# Evaluate the model\n",
    "print(confusion_matrix(y_test, y_pred))\n",
    "print(classification_report(y_test, y_pred))"
   ]
  },
  {
   "cell_type": "code",
   "execution_count": 6,
   "metadata": {},
   "outputs": [
    {
     "name": "stdout",
     "output_type": "stream",
     "text": [
      "Cross-validation accuracy scores: [0.99649049 0.99950858 0.9900559 ]\n",
      "Mean cross-validation accuracy: 0.9953516560723531\n",
      "Cross-validation precision scores: [0.99998774 0.99954676 0.98915761]\n",
      "Mean cross-validation precision: 0.996230703526137\n",
      "Cross-validation recall scores: [0.99607633 0.99990227 0.99980689]\n",
      "Mean cross-validation recall: 0.9985951664025977\n",
      "Cross-validation F1 scores: [0.9980282  0.99972449 0.99445374]\n",
      "Mean cross-validation F1: 0.9974021439575358\n"
     ]
    }
   ],
   "source": [
    "from sklearn.model_selection import StratifiedKFold, cross_validate\n",
    "\n",
    "stratified_k_fold = StratifiedKFold(n_splits=3)\n",
    "scoring = ['accuracy', 'precision', 'recall', 'f1']\n",
    "cv_results = cross_validate(model, X_train_scaled_df, y_train, cv=stratified_k_fold, scoring=scoring, n_jobs=-1)\n",
    "\n",
    "\n",
    "# Print cross-validation scores\n",
    "print(\"Cross-validation accuracy scores:\", cv_results['test_accuracy'])\n",
    "print(\"Mean cross-validation accuracy:\", cv_results['test_accuracy'].mean())\n",
    "print(\"Cross-validation precision scores:\", cv_results['test_precision'])\n",
    "print(\"Mean cross-validation precision:\", cv_results['test_precision'].mean())\n",
    "print(\"Cross-validation recall scores:\", cv_results['test_recall'])\n",
    "print(\"Mean cross-validation recall:\", cv_results['test_recall'].mean())\n",
    "print(\"Cross-validation F1 scores:\", cv_results['test_f1'])\n",
    "print(\"Mean cross-validation F1:\", cv_results['test_f1'].mean())"
   ]
  }
 ],
 "metadata": {
  "kernelspec": {
   "display_name": "Python 3",
   "language": "python",
   "name": "python3"
  },
  "language_info": {
   "codemirror_mode": {
    "name": "ipython",
    "version": 3
   },
   "file_extension": ".py",
   "mimetype": "text/x-python",
   "name": "python",
   "nbconvert_exporter": "python",
   "pygments_lexer": "ipython3",
   "version": "3.10.0"
  }
 },
 "nbformat": 4,
 "nbformat_minor": 2
}
