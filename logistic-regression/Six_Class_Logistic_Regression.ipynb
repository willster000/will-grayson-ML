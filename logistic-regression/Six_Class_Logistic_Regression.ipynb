{
 "cells": [
  {
   "cell_type": "code",
   "execution_count": 1,
   "metadata": {},
   "outputs": [],
   "source": [
    "import pandas as pd\n",
    "import glob\n",
    "from sklearn.preprocessing import MinMaxScaler\n",
    "from sklearn.model_selection import StratifiedKFold, cross_validate, train_test_split\n",
    "from sklearn.linear_model import LogisticRegression\n",
    "from sklearn.metrics import classification_report, confusion_matrix\n",
    "from sklearn.preprocessing import LabelEncoder"
   ]
  },
  {
   "cell_type": "code",
   "execution_count": 2,
   "metadata": {},
   "outputs": [],
   "source": [
    "# Grayson's path\n",
    "train_folder = \"C:\\\\Users\\\\grays\\\\Will-Grayson GitHub Repo\\\\will-grayson-ML\\\\six-class\\\\data\\\\train\\\\\"\n",
    "test_folder = \"C:\\\\Users\\\\grays\\\\Will-Grayson GitHub Repo\\\\will-grayson-ML\\\\six-class\\\\data\\\\test\\\\\"\n",
    "\n",
    "# Will's path\n",
    "#train_folder = \"C:\\\\Users\\\\willg\\\\OneDrive\\\\CSCI\\\\summer-2024-work\\\\will-grayson-ML\\\\train\\\\\"\n",
    "#test_folder = \"C:\\\\Users\\\\willg\\\\OneDrive\\\\CSCI\\\\summer-2024-work\\\\will-grayson-ML\\\\test\\\\\"\n",
    "\n",
    "# List all CSV files in the train and test folders\n",
    "train_files = glob.glob(train_folder + \"*.csv\")\n",
    "test_files = glob.glob(test_folder + \"*.csv\")\n",
    "\n",
    "# Function to load and concatenate CSV files from a list of file paths\n",
    "def load_and_concat(files, sample_fraction=None):\n",
    "    df_list = []\n",
    "    for file in files:\n",
    "        df = pd.read_csv(file)\n",
    "        if sample_fraction:\n",
    "            df = df.sample(frac=sample_fraction, random_state=42)  # Random sampling\n",
    "        df_list.append(df)\n",
    "    return pd.concat(df_list, ignore_index=True)\n",
    "\n",
    "# Load and concatenate training and testing data\n",
    "train_files = glob.glob(train_folder + \"*.csv\")\n",
    "test_files = glob.glob(test_folder + \"*.csv\")\n",
    "train_df = load_and_concat(train_files, sample_fraction=0.1)  # Use 10% of the data\n",
    "test_df = load_and_concat(test_files, sample_fraction=0.1)"
   ]
  },
  {
   "cell_type": "code",
   "execution_count": 3,
   "metadata": {},
   "outputs": [],
   "source": [
    "# Ensure the columns match by selecting the same feature columns in both train and test sets\n",
    "feature_columns = [col for col in train_df.columns if col not in ['spoofing', 'benign', 'MQTT', 'recon', 'DDoS', 'DoS']]\n",
    "\n",
    "# Create a new target column for the 6-class classification\n",
    "def determine_class(row):\n",
    "    if row['spoofing'] == 1:\n",
    "        return 'spoofing'\n",
    "    elif row['benign'] == 1:\n",
    "        return 'benign'\n",
    "    elif row['MQTT'] == 1:\n",
    "        return 'MQTT'\n",
    "    elif row['recon'] == 1:\n",
    "        return 'recon'\n",
    "    elif row['DDoS'] == 1:\n",
    "        return 'DDoS'\n",
    "    elif row['DoS'] == 1:\n",
    "        return 'DoS'\n",
    "    else:\n",
    "        return 'unknown'\n",
    "\n",
    "train_df['Attack_Type'] = train_df.apply(determine_class, axis=1)\n",
    "test_df['Attack_Type'] = test_df.apply(determine_class, axis=1)\n",
    "\n",
    "# Separate features and labels\n",
    "X_train = train_df[feature_columns]\n",
    "y_train = train_df['Attack_Type']\n",
    "X_test = test_df[feature_columns]\n",
    "y_test = test_df['Attack_Type']"
   ]
  },
  {
   "cell_type": "code",
   "execution_count": 4,
   "metadata": {},
   "outputs": [],
   "source": [
    "# Encode the labels to numerical values\n",
    "label_encoder = LabelEncoder()\n",
    "y_train = label_encoder.fit_transform(y_train)\n",
    "y_test = label_encoder.transform(y_test)\n",
    "\n",
    "# Create a scaler object\n",
    "scaler = MinMaxScaler()\n",
    "\n",
    "# Fit the scaler to the training features and transform both training and testing features\n",
    "X_train_scaled = scaler.fit_transform(X_train)\n",
    "X_test_scaled = scaler.transform(X_test)\n",
    "\n",
    "# Convert the scaled features to DataFrames\n",
    "X_train_scaled_df = pd.DataFrame(X_train_scaled, columns=feature_columns)\n",
    "X_test_scaled_df = pd.DataFrame(X_test_scaled, columns=feature_columns)"
   ]
  },
  {
   "cell_type": "code",
   "execution_count": 5,
   "metadata": {},
   "outputs": [
    {
     "name": "stderr",
     "output_type": "stream",
     "text": [
      "c:\\Users\\grays\\AppData\\Local\\Programs\\Python\\Python39\\lib\\site-packages\\sklearn\\linear_model\\_logistic.py:1247: FutureWarning: 'multi_class' was deprecated in version 1.5 and will be removed in 1.7. From then on, it will always use 'multinomial'. Leave it to its default value to avoid this warning.\n",
      "  warnings.warn(\n"
     ]
    },
    {
     "name": "stdout",
     "output_type": "stream",
     "text": [
      "Confusion Matrix:\n",
      "[[109884   1612      0    106    107      2]\n",
      " [ 36847   5819      0     51    114      0]\n",
      " [    39     16     20     99      0      1]\n",
      " [    47     93      0   3466     12    143]\n",
      " [   969     96      0    144   1520     38]\n",
      " [    17     16      0     56      3     82]]\n",
      "\n",
      "Classification Report:\n",
      "              precision    recall  f1-score   support\n",
      "\n",
      "        DDoS       0.74      0.98      0.85    111711\n",
      "         DoS       0.76      0.14      0.23     42831\n",
      "        MQTT       1.00      0.11      0.21       175\n",
      "      benign       0.88      0.92      0.90      3761\n",
      "       recon       0.87      0.55      0.67      2767\n",
      "    spoofing       0.31      0.47      0.37       174\n",
      "\n",
      "    accuracy                           0.75    161419\n",
      "   macro avg       0.76      0.53      0.54    161419\n",
      "weighted avg       0.75      0.75      0.68    161419\n",
      "\n"
     ]
    }
   ],
   "source": [
    "# Initialize the Logistic Regression model\n",
    "model = LogisticRegression(multi_class='multinomial', solver='lbfgs', max_iter=1000)\n",
    "\n",
    "# Train the model\n",
    "model.fit(X_train_scaled_df, y_train)\n",
    "\n",
    "# Make predictions\n",
    "y_pred = model.predict(X_test_scaled_df)\n",
    "\n",
    "# Decode the numerical predictions back to original labels\n",
    "y_test_labels = label_encoder.inverse_transform(y_test)\n",
    "y_pred_labels = label_encoder.inverse_transform(y_pred)\n",
    "\n",
    "# Evaluate the model\n",
    "print(\"Confusion Matrix:\")\n",
    "print(confusion_matrix(y_test_labels, y_pred_labels))\n",
    "print(\"\\nClassification Report:\")\n",
    "print(classification_report(y_test_labels, y_pred_labels))"
   ]
  },
  {
   "cell_type": "code",
   "execution_count": null,
   "metadata": {},
   "outputs": [],
   "source": [
    "# Cross-validation\n",
    "stratified_k_fold = StratifiedKFold(n_splits=3)\n",
    "scoring = ['accuracy', 'precision_macro', 'recall_macro', 'f1_macro']\n",
    "cv_results = cross_validate(model, X_train_scaled_df, y_train, cv=stratified_k_fold, scoring=scoring, n_jobs=-1)\n",
    "\n",
    "# Print cross-validation scores\n",
    "print(\"Cross-validation accuracy scores:\", cv_results['test_accuracy'])\n",
    "print(\"Mean cross-validation accuracy:\", cv_results['test_accuracy'].mean())\n",
    "print(\"Cross-validation precision scores:\", cv_results['test_precision_macro'])\n",
    "print(\"Mean cross-validation precision:\", cv_results['test_precision_macro'].mean())\n",
    "print(\"Cross-validation recall scores:\", cv_results['test_recall_macro'])\n",
    "print(\"Mean cross-validation recall:\", cv_results['test_recall_macro'].mean())\n",
    "print(\"Cross-validation F1 scores:\", cv_results['test_f1_macro'])\n",
    "print(\"Mean cross-validation F1:\", cv_results['test_f1_macro'].mean())"
   ]
  }
 ],
 "metadata": {
  "kernelspec": {
   "display_name": "Python 3",
   "language": "python",
   "name": "python3"
  },
  "language_info": {
   "codemirror_mode": {
    "name": "ipython",
    "version": 3
   },
   "file_extension": ".py",
   "mimetype": "text/x-python",
   "name": "python",
   "nbconvert_exporter": "python",
   "pygments_lexer": "ipython3",
   "version": "3.9.7"
  }
 },
 "nbformat": 4,
 "nbformat_minor": 2
}
