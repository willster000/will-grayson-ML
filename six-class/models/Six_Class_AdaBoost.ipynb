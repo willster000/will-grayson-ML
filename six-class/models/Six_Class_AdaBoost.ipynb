{
 "cells": [
  {
   "cell_type": "code",
   "execution_count": 8,
   "metadata": {},
   "outputs": [],
   "source": [
    "import pandas as pd\n",
    "import glob\n",
    "from sklearn.preprocessing import MinMaxScaler\n",
    "from sklearn.ensemble import AdaBoostClassifier\n",
    "from sklearn.model_selection import StratifiedKFold, cross_validate\n",
    "from sklearn.metrics import classification_report, confusion_matrix\n",
    "from sklearn.preprocessing import LabelEncoder"
   ]
  },
  {
   "cell_type": "code",
   "execution_count": 11,
   "metadata": {},
   "outputs": [],
   "source": [
    "# Grayson's path\n",
    "train_folder = \"C:\\\\Users\\\\grays\\\\Will-Grayson GitHub Repo\\\\will-grayson-ML\\\\six-class\\\\data\\\\train\\\\\"\n",
    "test_folder = \"C:\\\\Users\\\\grays\\\\Will-Grayson GitHub Repo\\\\will-grayson-ML\\\\six-class\\\\data\\\\test\\\\\"\n",
    "\n",
    "# Will's path\n",
    "#train_folder = \"C:\\\\Users\\\\willg\\\\OneDrive\\\\CSCI\\\\summer-2024-work\\\\will-grayson-ML\\\\train\\\\\"\n",
    "#test_folder = \"C:\\\\Users\\\\willg\\\\OneDrive\\\\CSCI\\\\summer-2024-work\\\\will-grayson-ML\\\\test\\\\\"\n",
    "\n",
    "# List all CSV files in the train folder\n",
    "train_files = glob.glob(train_folder + \"*.csv\")\n",
    "test_files = glob.glob(test_folder + \"*.csv\")\n",
    "\n",
    "# Function to load and concatenate CSV files from a list of file paths\n",
    "def load_and_concat(files, sample_fraction=None):\n",
    "    df_list = []\n",
    "    for file in files:\n",
    "        df = pd.read_csv(file)\n",
    "        if sample_fraction:\n",
    "            df = df.sample(frac=sample_fraction, random_state=42)  # Random sampling\n",
    "        df_list.append(df)\n",
    "    return pd.concat(df_list, ignore_index=True)\n",
    "\n",
    "# Load and concatenate training and testing data\n",
    "train_files = glob.glob(train_folder + \"*.csv\")\n",
    "test_files = glob.glob(test_folder + \"*.csv\")\n",
    "train_df = load_and_concat(train_files, sample_fraction=0.1)  # Use 10% of the data\n",
    "test_df = load_and_concat(test_files, sample_fraction=0.1)"
   ]
  },
  {
   "cell_type": "code",
   "execution_count": 12,
   "metadata": {},
   "outputs": [],
   "source": [
    "# Ensure the columns match by selecting the same feature columns in both train and test sets\n",
    "feature_columns = [col for col in train_df.columns if col not in ['spoofing', 'benign', 'MQTT', 'recon', 'DDoS', 'DoS']]\n",
    "\n",
    "# Create a new target column for the 6-class classification\n",
    "def determine_class(row):\n",
    "    if row['spoofing'] == 1:\n",
    "        return 'spoofing'\n",
    "    elif row['benign'] == 1:\n",
    "        return 'benign'\n",
    "    elif row['MQTT'] == 1:\n",
    "        return 'MQTT'\n",
    "    elif row['recon'] == 1:\n",
    "        return 'recon'\n",
    "    elif row['DDoS'] == 1:\n",
    "        return 'DDoS'\n",
    "    elif row['DoS'] == 1:\n",
    "        return 'DoS'\n",
    "    else:\n",
    "        return 'unknown'\n",
    "\n",
    "train_df['Attack_Type'] = train_df.apply(determine_class, axis=1)\n",
    "test_df['Attack_Type'] = test_df.apply(determine_class, axis=1)\n",
    "\n",
    "# Separate features and labels\n",
    "X_train = train_df[feature_columns]\n",
    "y_train = train_df['Attack_Type']\n",
    "X_test = test_df[feature_columns]\n",
    "y_test = test_df['Attack_Type']\n"
   ]
  },
  {
   "cell_type": "code",
   "execution_count": 13,
   "metadata": {},
   "outputs": [],
   "source": [
    "# Encode the labels to numerical values\n",
    "label_encoder = LabelEncoder()\n",
    "y_train = label_encoder.fit_transform(y_train)\n",
    "y_test = label_encoder.transform(y_test)\n",
    "\n",
    "# Create a scaler object\n",
    "scaler = MinMaxScaler()\n",
    "\n",
    "# Fit the scaler to the training features and transform both training and testing features\n",
    "X_train_scaled = scaler.fit_transform(X_train)\n",
    "X_test_scaled = scaler.transform(X_test)\n",
    "\n",
    "# Convert the scaled features to DataFrames\n",
    "X_train_scaled_df = pd.DataFrame(X_train_scaled, columns=feature_columns)\n",
    "X_test_scaled_df = pd.DataFrame(X_test_scaled, columns=feature_columns)"
   ]
  },
  {
   "cell_type": "code",
   "execution_count": 15,
   "metadata": {},
   "outputs": [
    {
     "name": "stdout",
     "output_type": "stream",
     "text": [
      "[[110844    861      0      0      6      0]\n",
      " [   695  42134      0      0      2      0]\n",
      " [    74      1     15     77      8      0]\n",
      " [    29      0      0   3562     10    160]\n",
      " [  1206      0      0    100   1430     31]\n",
      " [    19      0      0     27      0    128]]\n",
      "              precision    recall  f1-score   support\n",
      "\n",
      "           0       0.98      0.99      0.99    111711\n",
      "           1       0.98      0.98      0.98     42831\n",
      "           2       1.00      0.09      0.16       175\n",
      "           3       0.95      0.95      0.95      3761\n",
      "           4       0.98      0.52      0.68      2767\n",
      "           5       0.40      0.74      0.52       174\n",
      "\n",
      "    accuracy                           0.98    161419\n",
      "   macro avg       0.88      0.71      0.71    161419\n",
      "weighted avg       0.98      0.98      0.98    161419\n",
      "\n"
     ]
    }
   ],
   "source": [
    "# Initialize the AdaBoost model\n",
    "model = AdaBoostClassifier(n_estimators=100, algorithm='SAMME')\n",
    "\n",
    "# Train the model\n",
    "model.fit(X_train_scaled_df, y_train)\n",
    "\n",
    "# Make predictions\n",
    "y_pred = model.predict(X_test_scaled_df)\n",
    "\n",
    "# Evaluate the model\n",
    "print(confusion_matrix(y_test, y_pred))\n",
    "print(classification_report(y_test, y_pred))\n"
   ]
  }
 ],
 "metadata": {
  "kernelspec": {
   "display_name": "Python 3",
   "language": "python",
   "name": "python3"
  },
  "language_info": {
   "codemirror_mode": {
    "name": "ipython",
    "version": 3
   },
   "file_extension": ".py",
   "mimetype": "text/x-python",
   "name": "python",
   "nbconvert_exporter": "python",
   "pygments_lexer": "ipython3",
   "version": "3.9.7"
  }
 },
 "nbformat": 4,
 "nbformat_minor": 2
}
